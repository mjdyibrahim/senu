{
 "cells": [
  {
   "cell_type": "code",
   "execution_count": 165,
   "id": "488c2311-421a-47dc-a6c3-a49c87892e90",
   "metadata": {},
   "outputs": [
    {
     "name": "stdout",
     "output_type": "stream",
     "text": [
      "Successfully installed tqdm-4.66.4\n"
     ]
    },
    {
     "name": "stderr",
     "output_type": "stream",
     "text": [
      "sys:1: ResourceWarning: unclosed socket <zmq.Socket(zmq.PUSH) at 0x19bfd2bf8e0>\n",
      "ResourceWarning: Enable tracemalloc to get the object allocation traceback\n"
     ]
    },
    {
     "name": "stdout",
     "output_type": "stream",
     "text": [
      "Requirement already satisfied: tqdm==4.66.4 in c:\\users\\amagd\\anaconda3\\lib\\site-packages (4.66.4)\n",
      "Requirement already satisfied: colorama in c:\\users\\amagd\\anaconda3\\lib\\site-packages (from tqdm==4.66.4) (0.4.5)\n"
     ]
    }
   ],
   "source": [
    "!pip install tqdm==4.66.4"
   ]
  },
  {
   "cell_type": "code",
   "execution_count": 166,
   "id": "af3bf81e-8a92-4adc-a887-3f5abfd2db31",
   "metadata": {},
   "outputs": [],
   "source": [
    "import os\n",
    "import sys\n",
    "import openai\n",
    "import dspy\n",
    "import re\n",
    "from werkzeug.utils import secure_filename\n",
    "from dotenv import load_dotenv\n",
    "from tqdm import tqdm\n",
    "import cohere\n",
    "import weaviate\n",
    "import weaviate.classes.config as wvcc\n",
    "from dspy.retrieve.weaviate_rm import WeaviateRM\n",
    "from dotenv import load_dotenv\n",
    "from DSPyevaluate import *\n",
    "import matplotlib.pyplot as plt\n",
    "import numpy as np\n",
    "import json\n",
    "import pymupdf"
   ]
  },
  {
   "cell_type": "code",
   "execution_count": 167,
   "id": "27fcf0b1-6c95-4927-9073-dfa97e5f1800",
   "metadata": {},
   "outputs": [],
   "source": [
    "# Load environment variables\n",
    "load_dotenv()\n",
    "\n",
    "# Access environment variables\n",
    "AI71_API_KEY = os.getenv(\"AI71_API_KEY\")\n",
    "AI71_BASE_URL = os.getenv(\"AI71_BASE_URL\")"
   ]
  },
  {
   "cell_type": "code",
   "execution_count": 168,
   "id": "960bc3bd-6cd7-4025-8239-cc31dadb0f92",
   "metadata": {},
   "outputs": [],
   "source": [
    "# Function to check allowed file extensions\n",
    "def allowed_file(filename):\n",
    "    return '.' in filename and filename.rsplit('.', 1)[1].lower() in ALLOWED_EXTENSIONS\n",
    "\n",
    "# Function to process PDF files\n",
    "def replace_ligatures(text: str) -> str:\n",
    "    ligatures = {\n",
    "        \"ﬁ\": \"fi\", \"ﬂ\": \"fl\", \"ﬃ\": \"ffi\", \"ﬄ\": \"ffl\",\n",
    "        \"ﬅ\": \"ft\", \"ﬆ\": \"st\", \"Ꜳ\": \"AA\", \"Æ\": \"AE\", \"ꜳ\": \"aa\"\n",
    "    }\n",
    "    for search, replace in ligatures.items():\n",
    "        text = text.replace(search, replace)\n",
    "    return text\n",
    "\n",
    "def remove_footnotes(text: str) -> str:\n",
    "    '''Removes footnotes'''\n",
    "    footnote_pattern = r'\\[\\d+\\]|\\(\\d+\\)'\n",
    "    return re.sub(footnote_pattern, '', text)\n",
    "\n",
    "def data_cleaning(text: str) -> str:\n",
    "    '''Removes hyperlinks and non-essential characters, and changes text to lowercase'''\n",
    "    text = re.sub(r'http\\S+', '', text)\n",
    "    text = re.sub(r\"[^a-zA-Z0-9 %$]\", \" \", text)\n",
    "    return text.lower()\n",
    "\n",
    "def process_pdf(filepath: str) -> str:\n",
    "    '''Function for processing individual PDFs'''\n",
    "    if not os.path.exists(filepath):\n",
    "        raise FileNotFoundError(f\"File not found: {filepath}\")\n",
    "    \n",
    "    document = pymupdf.open(filepath)\n",
    "    text_data = \"\"\n",
    "    \n",
    "    for page_num in range(len(document)):\n",
    "        page = document.load_page(page_num)\n",
    "        data = page.get_text()\n",
    "        text_data += remove_footnotes(data)\n",
    "        \n",
    "    text_data = replace_ligatures(text_data)\n",
    "    return data_cleaning(text_data)\n",
    "\n",
    "def evaluate_pitch_deck(content):\n",
    "    evaluate = dspy.Predict(EvaluatePitchDeck, n=1)\n",
    "    response = evaluate(pitchdeck_content=content)\n",
    "    return response.evaluation_results  # This would be a dict with scores and feedback\n"
   ]
  },
  {
   "cell_type": "code",
   "execution_count": 169,
   "id": "0e2315e2-0113-4f6b-8533-a19b6aa4f9bf",
   "metadata": {},
   "outputs": [],
   "source": [
    "filename =\"Carta-Pitch-Deck-Business-Insider-February-2019\" + \".pdf\""
   ]
  },
  {
   "cell_type": "code",
   "execution_count": 170,
   "id": "aa6eb6aa-5147-4e35-ba5f-7eaf1b586044",
   "metadata": {},
   "outputs": [],
   "source": [
    "filepath = \"C:\\\\Users\\\\amagd\\\\projects\\\\falcon\\\\uploads\\\\\" + filename"
   ]
  },
  {
   "cell_type": "code",
   "execution_count": 171,
   "id": "dc586a24-3048-4003-903e-a1099afa8a03",
   "metadata": {},
   "outputs": [
    {
     "name": "stdout",
     "output_type": "stream",
     "text": [
      "C:\\Users\\amagd\\projects\\falcon\\uploads\\Carta-Pitch-Deck-Business-Insider-February-2019.pdf\n"
     ]
    }
   ],
   "source": [
    "print(filepath)"
   ]
  },
  {
   "cell_type": "code",
   "execution_count": 172,
   "id": "fdaad534-21f6-4485-b3ba-848d64c5f53e",
   "metadata": {},
   "outputs": [],
   "source": [
    "pdf_content = process_pdf(filepath)"
   ]
  },
  {
   "cell_type": "code",
   "execution_count": 173,
   "id": "72176a61-ac0b-4f71-b72b-4f721ec8ae9d",
   "metadata": {},
   "outputs": [
    {
     "name": "stdout",
     "output_type": "stream",
     "text": [
      "carta investor pitch 1 the problem $20k $7 private public the solution build the central registry of asset ownership henry $100 shares mary $50 options bob $200 warrant bill $1000 debt sam $400 membership units how  create a simple way for issuers to transfer securities online issuer owner ownership we issue electronic shares  options  debt   and derivatives and track ownership  restrictions  and shareholder information we automate  their approval   and compliance including new issues   transfers  and settlement we track the cap table and all issuer liabilities we track the portfolio and all the owner s assets venture capital is our first network fractional ownership industries have strong  network effects e company vc vc vc stocks e e options e our second network is limited partners membership in funds is a larger and more  valuable network effect company vc vc vc stocks company warrants banks lp lp lp lp lp lp lp company e e e e membership units options sell software and financial products into each  node in the network companies venture firms limited partners and keep going  as we drill deeper into the asset ownership  graph we enter new categories of assets vc lps all private  companies public companies real estate pe other privately held assets employee   equity  brokerages transfer   agents so how are we doing  carta at a glance founded in  2012 450  employees 7 offices palo alto  san francisco  seattle  new york   salt lake city  princeton  rio de janeiro  10 000 subscription customers  700 000 shareholders on the platform $50m in arr annual recurring revenue subscription customers payback period definitions   customer acquisition cost  cac    sales   marketing spend  fully loaded    net implementation cost  fully loaded  by new subscription customer average arr   annual recurring revenue  arr  by new subscription customer   subscription gross margin payback period     cac   average arr   x 12 over 700 000 shareholders 700k lastly  ownership as simple as payroll 130 000 employees 75 000 drivers 700 000 hosts note  not current customers  this is our vision of how you could expand ownership beyond full time employees  this is a global problem think of us as a utility company  we lay financial cables phones have changed but we use the  same cables bell labs laid a century ago  our software forms the electronic cables  that will endure for the next century thank you \n"
     ]
    }
   ],
   "source": [
    "print(f\"\"\"{pdf_content}\"\"\")"
   ]
  },
  {
   "cell_type": "code",
   "execution_count": 174,
   "id": "a1b80c16-33f4-4bfc-8f24-8f9f57ef2553",
   "metadata": {},
   "outputs": [
    {
     "name": "stdout",
     "output_type": "stream",
     "text": [
      "{'Info': {'questions': ['What is the Startup Name?', 'When was the startup Date Started?', 'What is the Registration Type?', 'What is the Registration Country?', 'What is the Contact Info?'], 'dataFields': {'Startup Name': 'string', 'Date Started': 'date', 'Registration Type': 'string', 'Registration Country': 'string', 'Contact Info': 'string'}}, 'Team': {'questions': ['How many team members do you have?', 'List the team members with the following details:', {'Name': \"What is the team member's name?\", 'Title': \"What is the team member's title?\", 'Availability Per Week': 'How many hours per week is the team member available?', 'Involved Since': 'Since when has the team member been involved?', 'Equity %': 'What percentage of equity does the team member hold?', 'Salary %': 'What percentage of salary does the team member receive?', 'Years of Experience': 'How many years of experience does the team member have?', 'Academic Degree': {'Undergraduate': 'Does the team member have an undergraduate degree?', 'Graduate Degree': 'Does the team member have a graduate degree?', 'Masters': \"Does the team member have a master's degree?\", 'PhD or More': 'Does the team member have a PhD or higher degree?'}, 'Startup Experience': {'Has Been Part of a Startup Team': 'Has the team member been part of a startup team?', 'Has Been the Founder of a Startup': 'Has the team member been the founder of a startup?', 'Has Previous C-Level Position': 'Has the team member held a previous C-level position?', 'Has Been Part of a Successful Exit': 'Has the team member been part of a successful exit?'}, 'Role': {'Marketing': \"Is the team member's role in Marketing?\", 'Sales': \"Is the team member's role in Sales?\", 'Product': \"Is the team member's role in Product?\", 'Creative': \"Is the team member's role in Creative?\", 'Technical': \"Is the team member's role in Technical?\", 'Operation': \"Is the team member's role in Operation?\", 'Other': 'What other role does the team member have?'}}, 'Can you provide an overview of the teamâ€™s qualifications and expertise?', 'How would you assess the teamâ€™s experience and ability to execute the business plan?'], 'dataFields': {'Number of Team Members': 'integer', 'Team Members': [{'Name': 'string', 'Title': 'string', 'Availability Per Week': 'integer', 'Involved Since': 'date', 'Equity %': 'number', 'Salary %': 'number', 'Years of Experience': 'integer', 'Academic Degree': {'Undergraduate': 'boolean', 'Graduate Degree': 'boolean', 'Masters': 'boolean', 'PhD or More': 'boolean'}, 'Startup Experience': {'Has Been Part of a Startup Team': 'boolean', 'Has Been the Founder of a Startup': 'boolean', 'Has Previous C-Level Position': 'boolean', 'Has Been Part of a Successful Exit': 'boolean'}, 'Role': 'string'}], 'Team Overview': 'string', 'Team Assessment': 'string'}}, 'Fundraising': {'questions': ['How much are you currently raising?', 'How much have you raised so far?', 'What are the sources of your funds?', {'Founders': 'Are the funds from Founders?', 'Friends and Family': 'Are the funds from Friends and Family?', 'Crowdfunding': 'Are the funds from Crowdfunding?', 'Accelerator': 'Are the funds from an Accelerator?', 'Angel Investor': 'Are the funds from an Angel Investor?', 'VC': 'Are the funds from a VC?'}, 'How are you planning to spend the funds being raised?', {'Product': 'Will the funds be spent on Product?', 'Marketing': 'Will the funds be spent on Marketing?', 'Team': 'Will the funds be spent on Team?', 'Operations': 'Will the funds be spent on Operations?'}, 'Have you received any patents?', 'Have you accomplished any significant achievements?', 'Is your pitch deck ready?'], 'dataFields': {'Current Amount Being Raised': 'number', 'Amount Raised So Far': 'number', 'Sources of Funds': {'Founders': 'boolean', 'Friends and Family': 'boolean', 'Crowdfunding': 'boolean', 'Accelerator': 'boolean', 'Angel Investor': 'boolean', 'VC': 'boolean'}, 'Spending Allocation': {'Product': 'boolean', 'Marketing': 'boolean', 'Team': 'boolean', 'Operations': 'boolean'}, 'Received Patents': 'boolean', 'Significant Achievements': 'boolean', 'Pitch Deck Ready': 'boolean'}}, 'Market': {'questions': ['What are consumers currently paying (on an annual basis) to resolve this problem or satisfy this desire?', 'How big is your market in numbers?', 'What market share are you planning to acquire in the next 3 years?'], 'dataFields': {'Consumer Payment': 'number', 'Market Size': 'number', 'Market Share in 3 Years': 'number'}}, 'Business Model': {'questions': ['What is your primary industry?', 'What are you charging for?', {'Capital': 'Are you charging for Capital (Real Estate or Cash)?', 'Content': 'Are you charging for Content?', 'Data / Information': 'Are you charging for Data / Information?', 'Goods / Widgets (Resellers)': 'Are you charging for Goods / Widgets (Resellers)?', 'Goods / Widgets (Producers)': 'Are you charging for Goods / Widgets (Producers)?', 'Hard Science': 'Are you charging for Hard Science (BioTech, Pharma, AI, etc.)?', 'Network or Community': 'Are you charging for Network or Community?', 'Non-Physical Direct to Consumer': 'Are you charging for Non-Physical Direct to Consumer (in-app purchases, Freemium, etc.)?', 'Physical Direct to Consumer': 'Are you charging for Physical Direct to Consumer (monthly deliveries, etc.)?', 'Services': 'Are you charging for Services (health care, professional services, legal services, etc.)?', 'Technology / Platform': 'Are you charging for Technology / Platform?', 'Other': 'What other charges are you applying?'}, 'Which of the following best describes the primary way your venture will make money?', {'Advertising': 'Is your revenue model based on Advertising?', 'Pay Per Unit': 'Is your revenue model based on Pay Per Unit?', 'Pay Per Project': 'Is your revenue model based on Pay Per Project?', 'Brokerage or Marketplace': {'Consumer to Consumer': 'Is your marketplace model Consumer to Consumer (e.g. Airbnb)?', 'Enterprise to Enterprise': 'Is your marketplace model Enterprise to Enterprise (e.g. New York Stock Exchange)?', 'Enterprise to Consumer': 'Is your marketplace model Enterprise to Consumer (e.g. Amazon)?'}, 'Recurring': 'Is your revenue model Recurring (Rental, Subscription, Premiums, etc.)?', 'Other': 'What other revenue model are you using?'}, 'What is your primary way of acquiring customers?', {'Online Advertising': 'Are you using Online Advertising?', 'Strategic Partnership': 'Are you using Strategic Partnership?', 'Affiliate Marketing': 'Are you using Affiliate Marketing?', 'Conferences & Exhibitions': 'Are you using Conferences & Exhibitions?', 'Virtual / Word of Mouth': 'Are you using Virtual / Word of Mouth?'}, 'How much do you have to spend on Sales & Marketing to acquire each customer as a percentage of sale value?', {'10': 'Is it 10%?', '20': 'Is it 20%?', '30': 'Is it 30%?'}, 'What kind of users make up your audience/user base?', {'Everyone': 'Is your user base Everyone?', 'Niche': 'Is your user base Niche?'}], 'dataFields': {'Primary Industry': 'string', 'Charges': {'Capital': 'boolean', 'Content': 'boolean', 'Data / Information': 'boolean', 'Goods / Widgets (Resellers)': 'boolean', 'Goods / Widgets (Producers)': 'boolean', 'Hard Science': 'boolean', 'Network or Community': 'boolean', 'Non-Physical Direct to Consumer': 'boolean', 'Physical Direct to Consumer': 'boolean', 'Services': 'boolean', 'Technology / Platform': 'boolean', 'Other': 'string'}, 'Revenue Model': {'Advertising': 'boolean', 'Pay Per Unit': 'boolean', 'Pay Per Project': 'boolean', 'Brokerage or Marketplace': {'Consumer to Consumer': 'boolean', 'Enterprise to Enterprise': 'boolean', 'Enterprise to Consumer': 'boolean'}, 'Recurring': 'boolean', 'Other': 'string'}, 'Customer Acquisition Method': {'Online Advertising': 'boolean', 'Strategic Partnership': 'boolean', 'Affiliate Marketing': 'boolean', 'Conferences & Exhibitions': 'boolean', 'Virtual / Word of Mouth': 'boolean'}, 'Customer Acquisition Cost': {'10': 'boolean', '20': 'boolean', '30': 'boolean'}, 'User Base': {'Everyone': 'boolean', 'Niche': 'boolean'}}}, 'Product': {'questions': ['What is the current stage of development for the product?', {'Idea': 'Is the product at the Idea stage?', 'Prototype': 'Is the product at the Prototype stage?', 'Beta': 'Is the product at the Beta stage?', 'Live': 'Is the product at the Live stage?'}, 'How many prospective customers have you interviewed in the past 3 months?', 'What percentage of these prospects said they would purchase the product or service?'], 'dataFields': {'Product Stage': {'Idea': 'boolean', 'Prototype': 'boolean', 'Beta': 'boolean', 'Live': 'boolean'}, 'Prospective Customers Interviewed': 'integer', 'Percentage of Purchase Intent': 'number'}}, 'Traction': {'questions': ['Have you already started making sales and generating revenues?', 'How much revenue have you realized over the past twelve months?', 'How much revenue have you realized over the past three months?', 'How many individual leads have resulted in these sales?'], 'dataFields': {'Sales and Revenues Started': 'boolean', 'Revenue Past 12 Months': 'number', 'Revenue Past 3 Months': 'number', 'Number of Leads Resulting in Sales': 'integer'}}}\n"
     ]
    }
   ],
   "source": [
    "json_file_path = 'C:/Users/amagd/projects/falcon/startup.json'\n",
    "with open(json_file_path, 'r') as file:\n",
    "    startup_data = json.load(file)\n",
    "\n",
    "print(f\"\"\"{startup_data}\"\"\")"
   ]
  },
  {
   "cell_type": "code",
   "execution_count": 176,
   "id": "49bf0671-e9e6-4292-a195-7c08f76ac0a2",
   "metadata": {},
   "outputs": [],
   "source": [
    "COHERE_API_KEY = os.getenv(\"COHERE_API_KEY\")\n",
    "WEAVIATE_API_KEY = os.getenv(\"WEAVIATE_API_KEY\")\n",
    "WEAVIATE_URL = os.getenv(\"WEAVIATE_URL\")"
   ]
  },
  {
   "cell_type": "code",
   "execution_count": 177,
   "id": "6477e078-24f3-4f16-977a-95f269642057",
   "metadata": {},
   "outputs": [],
   "source": [
    "co = cohere.Client(COHERE_API_KEY)"
   ]
  },
  {
   "cell_type": "code",
   "execution_count": 178,
   "id": "298b251e-6b9a-487b-a2c0-6a7a6ed76761",
   "metadata": {},
   "outputs": [],
   "source": [
    "weaviate_client = weaviate.connect_to_wcs(\n",
    "    cluster_url=WEAVIATE_URL,  # Replace with your WCS URL\n",
    "    auth_credentials=weaviate.auth.AuthApiKey(WEAVIATE_API_KEY),  # Replace with your WCS key\n",
    "    headers={\n",
    "        'X-Cohere-Api-Key': (COHERE_API_KEY) # Replace with your Cohere API key\n",
    "    }\n",
    ")"
   ]
  },
  {
   "cell_type": "code",
   "execution_count": 181,
   "id": "3863a3bc-f16d-4eda-8228-ffd430a952f8",
   "metadata": {},
   "outputs": [
    {
     "name": "stdout",
     "output_type": "stream",
     "text": [
      "Weaviate class 'Senu' already exists.\n"
     ]
    }
   ],
   "source": [
    "if not weaviate_client.collections.exists(\"senu\"):\n",
    "    # Define a data collection (class) in Weaviate\n",
    "    try:\n",
    "        collection = weaviate_client.collections.create(\n",
    "            name=\"senu\",\n",
    "            vectorizer_config=weaviate.classes.config.Configure.Vectorizer.text2vec_cohere(),\n",
    "            generative_config=weaviate.classes.config.Configure.Generative.cohere(\n",
    "                model=\"embed-multilingual-v3.0\"\n",
    "            ),\n",
    "            properties=[\n",
    "                    wvcc.Property(name=\"startup\", data_type=wvcc.DataType.TEXT),\n",
    "                    wvcc.Property(name=\"text\", data_type=wvcc.DataType.TEXT),\n",
    "                    wvcc.Property(name=\"embedding\", data_type=wvcc.DataType.INT_ARRAY),\n",
    "            ]\n",
    "        )\n",
    "\n",
    "    finally:\n",
    "        weaviate_client.close()\n",
    "\n",
    "    print(\"Weaviate class 'Senu' created.\")\n",
    "\n",
    "else:\n",
    "    print(\"Weaviate class 'Senu' already exists.\")"
   ]
  },
  {
   "cell_type": "code",
   "execution_count": 182,
   "id": "95ae38dd-0473-498e-b627-ccb8686e1863",
   "metadata": {},
   "outputs": [],
   "source": [
    "weaviate_rm = WeaviateRM(\"senu\", weaviate_client)"
   ]
  },
  {
   "cell_type": "code",
   "execution_count": 186,
   "id": "82c31bb1-95c8-4ee5-b0cc-52c9ba1bfcd7",
   "metadata": {},
   "outputs": [
    {
     "name": "stderr",
     "output_type": "stream",
     "text": [
      "unknown field: parameter compress is not a valid field\n"
     ]
    },
    {
     "name": "stdout",
     "output_type": "stream",
     "text": [
      "[[0.36914062, 0.101989746, 0.010253906, 0.5576172, 0.18066406, 0.14208984, 0.20532227, -0.3154297, 0.13000488, 0.14428711, -0.24621582, -0.5991211, -0.21313477, -0.025253296, -0.7685547, 0.1463623, 0.25756836, -0.12866211, 0.020050049, 0.04159546, 0.2376709, 0.27416992, 0.37573242, 0.09631348, 0.20458984, -0.33984375, -0.29589844, 0.36816406, -0.59277344, 0.31811523, 0.15612793, 0.041503906, -0.30371094, 0.48486328, -0.74072266, 0.19995117, -0.22363281, 0.1003418, -0.32348633, 0.3720703, -0.16882324, 0.105041504, -0.16064453, -0.13305664, 0.43554688, -0.11895752, -0.040740967, 0.25317383, -0.05657959, 0.028335571, -0.2175293, -0.43041992, -0.0597229, -0.31298828, -0.5058594, 0.47021484, -0.06488037, 0.20239258, 0.07342529, -0.070373535, -0.07910156, -0.21569824, -0.14709473, 0.13378906, -0.12768555, 0.096191406, -0.2536621, 0.4428711, 0.10028076, 0.3190918, -0.15490723, -0.020904541, 0.6118164, -0.0048065186, 0.15075684, 0.060638428, 0.15270996, -0.05895996, 0.2541504, -0.22216797, 0.29101562, -0.2705078, 0.11450195, 0.46948242, -0.12805176, 0.46972656, -0.14709473, 0.40698242, 0.0029392242, 0.5292969, -0.40405273, 0.1583252, -0.14001465, 0.24597168, 0.23278809, -0.06506348, 0.42211914, 0.23010254, 0.12017822, -0.09899902, -0.011497498, -0.16418457, 0.12310791, 0.33374023, 0.1081543, -0.41308594, 0.18725586, 0.3647461, -0.052520752, 0.2244873, 0.2368164, -0.47192383, 0.24316406, -0.44848633, 0.48901367, -0.07373047, 0.08911133, -0.0017194748, -0.19665527, -0.92041016, 0.64404297, 0.29785156, -0.1776123, -0.3088379, -0.052978516, 0.27075195, 0.42773438, 0.35546875, 0.53125, 0.23706055, 0.01197052, 0.4416504, 0.17749023, 0.71533203, -0.23400879, 0.3840332, 0.2861328, -0.19763184, -0.26489258, -0.22058105, -0.01675415, -0.37109375, 0.28759766, 0.6123047, 0.00035572052, 0.30004883, 0.06945801, 0.5488281, -0.099121094, 0.2310791, 0.017562866, -0.19555664, -0.20568848, 0.33520508, 0.0236969, 0.54003906, 0.84472656, -0.23828125, 0.5566406, 0.05041504, 0.9848633, 0.39697266, 0.26831055, -0.095947266, -0.11773682, 0.02607727, 0.19506836, 0.5805664, 0.3737793, -0.11663818, -0.40844727, 0.3466797, -0.26879883, -0.36401367, 0.17541504, 0.055755615, -0.31518555, -0.15637207, -0.014671326, -0.121276855, 0.050476074, -0.020370483, 0.089416504, 0.6850586, 0.5605469, -0.012359619, 0.097473145, 0.2607422, -0.29003906, -0.51171875, 0.09301758, 0.12310791, 0.78222656, -0.4074707, 0.24060059, 0.24267578, 0.08843994, 0.7285156, -0.41210938, 0.15649414, 0.032470703, 0.09326172, -0.030059814, 0.10900879, 0.44018555, -0.31298828, -0.11871338, 0.34521484, 0.13220215, -0.046325684, -0.21044922, 0.04598999, 0.06591797, 0.1928711, 0.046783447, 0.1619873, 0.11364746, -0.1953125, 0.60595703, -0.16723633, -0.30810547, 0.44189453, 0.29467773, 0.086242676, -0.02394104, -0.41357422, -0.3359375, -0.9794922, -0.05557251, 0.22509766, 0.2836914, 0.37646484, -0.008323669, -0.21765137, 0.09539795, 0.32226562, 0.19616699, 0.12347412, -0.025878906, -0.42529297, 0.35498047, -0.4169922, -0.5776367, 0.42871094, 0.56396484, -0.2166748, 0.6621094, -0.09246826, -0.32470703, 0.1763916, -0.0569458, -0.08453369, 0.08343506, 0.14880371, -0.19165039, 0.25463867, 0.13598633, -0.3461914, -0.10070801, -0.107543945, 0.014289856, 0.07019043, 0.22570801, 0.40527344, 0.10095215, 0.041015625, 0.21057129, 0.62890625, 0.13879395, 0.48217773, 0.16992188, -0.22009277, -0.051940918, 0.06738281, -0.080322266, 0.064819336, 0.09490967, -0.24768066, -0.29589844, 0.20996094, 0.5366211, -0.06628418, -0.26733398, 0.28735352, -0.03262329, 0.24768066, 0.10247803, -0.08270264, -0.80810547, -0.02407837, 0.43310547, 0.46166992, -0.0070343018, -0.22827148, 0.28735352, -0.2746582, -0.18469238, 0.038238525, 0.15185547, 0.029525757, 0.71972656, -0.4104004, 0.14855957, 0.35668945, 0.16809082, 0.039916992, 0.027526855, 0.122558594, -0.40307617, 0.28466797, 0.31225586, -0.27319336, 0.15100098, 0.13256836, 0.22888184, 0.7265625, 0.4494629, 0.2553711, 0.51708984, 0.37524414, -0.22180176, -0.13000488, -0.67529297, -0.32202148, 0.082458496, -0.42944336, -0.24938965, -0.46166992, -0.02923584, 0.46191406, 0.40527344, 0.5395508, -0.44433594, -0.3815918, -0.035736084, 0.10559082, 0.1887207, 0.20629883, -0.07269287, 0.02029419, 0.3173828, 0.28930664, 0.25219727, 0.23339844, -0.048095703, 0.22155762, -0.048431396, 0.29833984, 0.38110352, 0.20983887, 0.5371094, -0.13806152, -0.046966553, 0.2019043, 0.17907715, 0.11730957, 0.24987793, -0.05783081, 0.20031738, -0.2668457, 0.5605469, 0.008117676, -0.34570312, 0.07513428, 0.43164062, 0.27368164, 0.17675781, -0.1697998, 0.43920898, 0.23388672, 0.5966797, -0.48876953, -0.030410767, 0.09906006, -0.5683594, -0.27075195, 0.01763916, 0.2697754, 0.4855957, -0.328125, -0.5541992, 0.81640625, 0.11254883, -0.1953125, 0.54296875, -0.18859863, -0.26879883, 0.10235596, -0.19055176, -0.08062744, 0.23303223, -0.041412354, 0.05026245, -0.2298584, -0.24353027, 0.09350586, 0.27392578, 0.6621094, 0.40405273, 0.21362305, -0.20922852, 0.070617676, 0.76123047, 0.051635742, 4.2109375, 0.24621582, 0.17211914, 0.3322754, -0.15319824, 0.3552246, 0.39770508, 0.4284668, -0.017440796, 0.023651123, -0.30566406, -0.31176758, -0.16760254, 0.09375, -0.23950195, 0.3244629, 0.64697266, 0.23632812, 0.1081543, 0.3864746, -0.2409668, 0.092041016, 0.35668945, 0.20593262, 0.4428711, 0.26293945, 0.66552734, 0.023880005, 0.6567383, 0.41186523, -0.23657227, -0.31347656, -0.19946289, 0.21972656, -0.2043457, 0.18188477, 0.3466797, -0.0119018555, -0.0904541, 0.08959961, -0.022460938, 0.46166992, 0.19274902, 0.5229492, 0.050720215, -0.032165527, 0.052825928, 0.50341797, 0.09576416, 0.05947876, 0.1282959, -0.10247803, 0.04925537, -0.103271484, 0.021591187, 0.33520508, -0.113342285, 0.3256836, -0.2355957, 0.22814941, 0.30810547, -0.18334961, 0.53564453, -0.14050293, -0.5078125, 0.1665039, -0.09033203, 0.2849121, 0.066101074, -0.5522461, 0.43603516, 0.2770996, 0.42211914, -0.32910156, 0.054382324, -0.042266846, -0.033172607, 0.18579102, 0.26391602, -0.17700195, 0.484375, 0.0039634705, 0.11621094, -0.17492676, 0.036590576, 0.6142578, 0.0836792, -0.11303711, 0.46923828, -0.07556152, 0.55566406, -0.021713257, -0.09515381, 0.23718262, 0.32836914, -0.13012695, -0.009635925, -4.0585938, 0.011528015, 0.15686035, -0.1295166, 0.05758667, -0.050994873, 0.12231445, 0.43945312, -0.35961914, -0.06915283, -0.12017822, 0.21142578, -0.36645508, 0.32104492, 0.16296387, 0.5336914, 0.20812988, 0.1027832, 0.36206055, -0.06939697, 0.086242676, 0.3466797, -0.08465576, -0.21142578, 0.05834961, 0.5444336, 0.04736328, 0.08404541, -0.49951172, 0.109802246, 0.11279297, -0.31469727, 0.10217285, -0.3400879, -0.16296387, 0.49267578, 0.41552734, -0.33251953, 0.13391113, 0.52685547, 0.107421875, 0.09729004, 0.45410156, -0.016235352, -0.21716309, 0.65234375, -0.30615234, 0.41088867, 0.26367188, 0.09234619, 0.072021484, 0.1998291, -0.5546875, 0.11126709, 0.7495117, -0.32104492, 0.44189453, 0.3244629, 0.31396484, 0.10095215, 0.15673828, -0.29541016, 0.42285156, 0.3840332, -0.3881836, 0.16003418, -0.44067383, -0.3251953, 0.08404541, -0.13464355, 0.4189453, 0.17907715, 0.17260742, -0.35913086, -0.014274597, -0.08892822, 0.115600586, -0.58740234, 0.33789062, -0.13806152, -0.049438477, 0.045684814, -0.31640625, 0.08178711, 2.7753906, 0.5444336, 2.0273438, -0.22229004, -0.3166504, 0.2932129, -0.007881165, -0.14440918, -0.23034668, -0.06817627, 0.29125977, 0.51171875, -0.15124512, 0.11578369, 0.11602783, -0.15319824, 0.49291992, -0.69921875, -0.15148926, 0.25805664, 0.095214844, 0.042419434, 0.038238525, 0.16516113, 0.14257812, -0.12963867, 0.04156494, 0.11883545, -0.10131836, -0.21057129, -0.22106934, -0.4501953, 0.39233398, 0.15429688, 0.049224854, 0.13317871, -0.08520508, 4.6289062, -0.20654297, 0.13439941, 0.11218262, 0.20263672, 0.03173828, 0.17993164, 0.06604004, 0.07525635, -0.0736084, 0.8642578, 0.87646484, 0.03869629, 0.08093262, 0.15344238, 0.045410156, -0.14379883, 0.08441162, 0.15258789, -0.29370117, 0.123046875, 0.033416748, -0.056152344, -0.099609375, -0.2709961, 0.62060547, 0.22851562, 0.3173828, -0.09851074, -0.0011825562, -0.033569336, 5.3554688, -0.24902344, -0.24914551, -0.044891357, -0.11035156, 0.18139648, 0.048706055, -0.22937012, -0.5410156, -0.015052795, -0.29077148, 0.19311523, 0.13049316, 0.4387207, 0.79003906, 0.20349121, -0.39868164, -0.26293945, 0.30371094, 0.17492676, 0.38598633, -0.0625, 0.29248047, -0.00945282, 0.1595459, -0.69677734, 0.14550781, 0.1998291, -0.005092621, 0.25341797, 0.47802734, 0.20715332, -0.21777344, 0.13928223, -0.21081543, 0.2709961, 0.7636719, 0.1665039, 0.06958008, 0.16711426, 0.48242188, 0.8378906, 0.014595032, -0.02281189, 0.34155273, -0.3347168, 0.20080566, -0.06384277, -0.029785156, 0.4650879, -0.09240723, -0.3022461, 0.8154297, 0.7036133, 0.4411621, 0.49145508, 0.1303711, 0.1352539, 0.1751709, 0.13928223, 0.48632812, 0.29174805, 0.031204224, 0.17883301, 0.20690918, -0.21948242, 0.047943115, 0.07720947, 0.15234375, 0.0057678223, -0.17822266, 0.11071777, 0.20153809, -0.056854248, -0.14550781, -0.19702148, 0.11016846, -0.086120605, 0.0758667, -0.11633301, -0.2298584, 0.030563354, -0.22607422, 0.15759277, -0.24328613, 0.4206543, 0.22875977, 0.3647461, 0.44555664, -0.35327148, 0.1920166, -0.4013672, 0.011169434, 0.09564209, 0.024414062, -0.1352539, 0.059631348, 0.7685547, 0.06439209, 0.18981934, -0.42236328, 0.34814453, 0.50146484, 0.15234375, 0.1541748, 0.077697754, -0.042785645, 0.0036621094, 0.2619629, 0.24841309, 0.5786133, 0.3774414, 0.3515625, 0.17224121, -0.11657715]]\n"
     ]
    }
   ],
   "source": [
    "# Embed text data using Cohere\n",
    "startup_str = str(startup_data)\n",
    "embeds = co.embed(texts=[startup_str], model=\"multilingual-22-12\").embeddings\n",
    "print(f\"{embeds}\")"
   ]
  },
  {
   "cell_type": "code",
   "execution_count": null,
   "id": "71bb229b-9b8a-4fff-923d-45b5782a854f",
   "metadata": {},
   "outputs": [],
   "source": [
    "# Save embeddings to a single numpy array file\n",
    "all_embeddings_array = np.array(embeds)\n",
    "p"
   ]
  },
  {
   "cell_type": "code",
   "execution_count": null,
   "id": "8b551de1-9f11-489e-b1f0-e362b9faa089",
   "metadata": {},
   "outputs": [],
   "source": []
  },
  {
   "cell_type": "code",
   "execution_count": 184,
   "id": "de5aa0c0-46f6-44ed-9d55-a87ab73a268b",
   "metadata": {},
   "outputs": [
    {
     "name": "stderr",
     "output_type": "stream",
     "text": [
      "unknown field: parameter compress is not a valid field\n",
      "  0%|          | 0/1 [00:00<?, ?it/s]\n"
     ]
    },
    {
     "ename": "NameError",
     "evalue": "name 'convert_embedding_to_int_array' is not defined",
     "output_type": "error",
     "traceback": [
      "\u001b[1;31m---------------------------------------------------------------------------\u001b[0m",
      "\u001b[1;31mNameError\u001b[0m                                 Traceback (most recent call last)",
      "\u001b[1;32m~\\AppData\\Local\\Temp\\ipykernel_29420\\2217020322.py\u001b[0m in \u001b[0;36m<module>\u001b[1;34m\u001b[0m\n\u001b[0;32m     13\u001b[0m         \u001b[1;34m\"startup\"\u001b[0m\u001b[1;33m:\u001b[0m \u001b[0mfilename\u001b[0m\u001b[1;33m,\u001b[0m\u001b[1;33m\u001b[0m\u001b[1;33m\u001b[0m\u001b[0m\n\u001b[0;32m     14\u001b[0m         \u001b[1;34m\"text\"\u001b[0m\u001b[1;33m:\u001b[0m \u001b[0mstartup_str\u001b[0m\u001b[1;33m,\u001b[0m\u001b[1;33m\u001b[0m\u001b[1;33m\u001b[0m\u001b[0m\n\u001b[1;32m---> 15\u001b[1;33m         \u001b[1;34m\"embedding\"\u001b[0m\u001b[1;33m:\u001b[0m \u001b[0mjson\u001b[0m\u001b[1;33m.\u001b[0m\u001b[0mdumps\u001b[0m\u001b[1;33m(\u001b[0m\u001b[0mconvert_embedding_to_int_array\u001b[0m\u001b[1;33m(\u001b[0m\u001b[0membedding\u001b[0m\u001b[1;33m)\u001b[0m\u001b[1;33m)\u001b[0m\u001b[1;33m\u001b[0m\u001b[1;33m\u001b[0m\u001b[0m\n\u001b[0m\u001b[0;32m     16\u001b[0m     }\n\u001b[0;32m     17\u001b[0m \u001b[1;33m\u001b[0m\u001b[0m\n",
      "\u001b[1;31mNameError\u001b[0m: name 'convert_embedding_to_int_array' is not defined"
     ]
    }
   ],
   "source": [
    "\n",
    "                                \n",
    "# Convert to a NumPy array\n",
    "embedding_array = np.array(embedding)\n",
    "# Convert to integers (e.g., rounding or casting)\n",
    "int_array = embedding_array.astype(int)\n",
    "# Convert to list for JSON serialization\n",
    "embedding = int_array.tolist()                              \n",
    "\n",
    "# Process embeddings for the text\n",
    "for embedding in tqdm(embeds):\n",
    "    # Create a Weaviate object with the text and embedding\n",
    "    object_data = {\n",
    "        \"startup\": filename,\n",
    "        \"text\": startup_str,\n",
    "        \"embedding\": json.dumps(embedding)\n",
    "    }\n",
    "\n",
    "try: \n",
    "    # Add the object to the Weaviate collection\n",
    "    collection = client.collections.get(\"Senu\")\n",
    "    collection.data.insert(object_data)\n",
    "finally:\n",
    "    client.close\n"
   ]
  },
  {
   "cell_type": "code",
   "execution_count": null,
   "id": "44f2241c-1697-45be-aeac-ba8f24e89d09",
   "metadata": {},
   "outputs": [],
   "source": [
    "# Configure DSPy\n",
    "falcon_lm = dspy.OpenAI(model=\"tiiuae/falcon-180b-chat\", api_base=AI71_BASE_URL, api_key=AI71_API_KEY)\n",
    "dspy.configure(lm=falcon_lm, rm=weaviate_rm)"
   ]
  },
  {
   "cell_type": "code",
   "execution_count": 153,
   "id": "bba46c8d-1706-4259-8fd8-748f08dbe163",
   "metadata": {},
   "outputs": [],
   "source": [
    "class EvaluatePitchDeck(dspy.Signature):\n",
    "    \"\"\"\n",
    "    Evaluate the provided pitch deck content across all sections: Team, Fundraising, Market, Business Model, Product, and Traction.\n",
    "    The output is a dictionary with each section containing a score (1-10) and a list of five feedback items.    \n",
    "\n",
    "    Please format your feedback in this exact JSON structure, including five feedback items and a score for each section. Ensure that the 'startup_name' field is included at the top level of the JSON object.\n",
    "\n",
    "    \"\"\"\n",
    "    pitchdeck_content = dspy.InputField(desc=\"Content of the startup pitch deck.\")\n",
    "    startup_json = dspy.InputField(desc=\"JSON file of the most important statup assessment variables\")\n",
    "    evaluation_results = dspy.OutputField(desc=\"A dictionary in the given Json format containing scores and feedback for all sections of the pitch deck.\")"
   ]
  },
  {
   "cell_type": "code",
   "execution_count": 154,
   "id": "4d0d1162-93b8-46f2-a408-a80ef4a59247",
   "metadata": {},
   "outputs": [
    {
     "ename": "AssertionError",
     "evalue": "Need format_handler for startup_json of type <class 'dict'>",
     "output_type": "error",
     "traceback": [
      "\u001b[1;31m---------------------------------------------------------------------------\u001b[0m",
      "\u001b[1;31mAssertionError\u001b[0m                            Traceback (most recent call last)",
      "\u001b[1;32m~\\AppData\\Local\\Temp\\ipykernel_29420\\122592188.py\u001b[0m in \u001b[0;36m<module>\u001b[1;34m\u001b[0m\n\u001b[0;32m      1\u001b[0m \u001b[0mevaluate\u001b[0m \u001b[1;33m=\u001b[0m \u001b[0mdspy\u001b[0m\u001b[1;33m.\u001b[0m\u001b[0mChainOfThought\u001b[0m\u001b[1;33m(\u001b[0m\u001b[0mEvaluatePitchDeck\u001b[0m\u001b[1;33m,\u001b[0m \u001b[0mn\u001b[0m\u001b[1;33m=\u001b[0m\u001b[1;36m1\u001b[0m\u001b[1;33m)\u001b[0m\u001b[1;33m\u001b[0m\u001b[1;33m\u001b[0m\u001b[0m\n\u001b[1;32m----> 2\u001b[1;33m \u001b[0mresponse\u001b[0m \u001b[1;33m=\u001b[0m \u001b[0mevaluate\u001b[0m\u001b[1;33m(\u001b[0m\u001b[0mpitchdeck_content\u001b[0m\u001b[1;33m=\u001b[0m\u001b[0mpdf_content\u001b[0m\u001b[1;33m,\u001b[0m \u001b[0mstartup_json\u001b[0m\u001b[1;33m=\u001b[0m\u001b[0mstartup_data\u001b[0m\u001b[1;33m)\u001b[0m\u001b[1;33m\u001b[0m\u001b[1;33m\u001b[0m\u001b[0m\n\u001b[0m\u001b[0;32m      3\u001b[0m \u001b[0mprint\u001b[0m\u001b[1;33m(\u001b[0m\u001b[1;34mf\"\"\"{response}\"\"\"\u001b[0m\u001b[1;33m)\u001b[0m\u001b[1;33m\u001b[0m\u001b[1;33m\u001b[0m\u001b[0m\n",
      "\u001b[1;32m~\\anaconda3\\lib\\site-packages\\dspy\\primitives\\program.py\u001b[0m in \u001b[0;36m__call__\u001b[1;34m(self, *args, **kwargs)\u001b[0m\n\u001b[0;32m     24\u001b[0m \u001b[1;33m\u001b[0m\u001b[0m\n\u001b[0;32m     25\u001b[0m     \u001b[1;32mdef\u001b[0m \u001b[0m__call__\u001b[0m\u001b[1;33m(\u001b[0m\u001b[0mself\u001b[0m\u001b[1;33m,\u001b[0m \u001b[1;33m*\u001b[0m\u001b[0margs\u001b[0m\u001b[1;33m,\u001b[0m \u001b[1;33m**\u001b[0m\u001b[0mkwargs\u001b[0m\u001b[1;33m)\u001b[0m\u001b[1;33m:\u001b[0m\u001b[1;33m\u001b[0m\u001b[1;33m\u001b[0m\u001b[0m\n\u001b[1;32m---> 26\u001b[1;33m         \u001b[1;32mreturn\u001b[0m \u001b[0mself\u001b[0m\u001b[1;33m.\u001b[0m\u001b[0mforward\u001b[0m\u001b[1;33m(\u001b[0m\u001b[1;33m*\u001b[0m\u001b[0margs\u001b[0m\u001b[1;33m,\u001b[0m \u001b[1;33m**\u001b[0m\u001b[0mkwargs\u001b[0m\u001b[1;33m)\u001b[0m\u001b[1;33m\u001b[0m\u001b[1;33m\u001b[0m\u001b[0m\n\u001b[0m\u001b[0;32m     27\u001b[0m \u001b[1;33m\u001b[0m\u001b[0m\n\u001b[0;32m     28\u001b[0m     \u001b[1;32mdef\u001b[0m \u001b[0mnamed_predictors\u001b[0m\u001b[1;33m(\u001b[0m\u001b[0mself\u001b[0m\u001b[1;33m)\u001b[0m\u001b[1;33m:\u001b[0m\u001b[1;33m\u001b[0m\u001b[1;33m\u001b[0m\u001b[0m\n",
      "\u001b[1;32m~\\anaconda3\\lib\\site-packages\\dspy\\predict\\chain_of_thought.py\u001b[0m in \u001b[0;36mforward\u001b[1;34m(self, **kwargs)\u001b[0m\n\u001b[0;32m     35\u001b[0m \u001b[1;33m\u001b[0m\u001b[0m\n\u001b[0;32m     36\u001b[0m         \u001b[0msignature\u001b[0m \u001b[1;33m=\u001b[0m \u001b[0mkwargs\u001b[0m\u001b[1;33m.\u001b[0m\u001b[0mpop\u001b[0m\u001b[1;33m(\u001b[0m\u001b[1;34m\"new_signature\"\u001b[0m\u001b[1;33m,\u001b[0m \u001b[0mself\u001b[0m\u001b[1;33m.\u001b[0m\u001b[0m_predict\u001b[0m\u001b[1;33m.\u001b[0m\u001b[0mextended_signature\u001b[0m \u001b[1;32mif\u001b[0m \u001b[0mself\u001b[0m\u001b[1;33m.\u001b[0m\u001b[0mactivated\u001b[0m \u001b[1;32melse\u001b[0m \u001b[0mself\u001b[0m\u001b[1;33m.\u001b[0m\u001b[0msignature\u001b[0m\u001b[1;33m)\u001b[0m\u001b[1;33m\u001b[0m\u001b[1;33m\u001b[0m\u001b[0m\n\u001b[1;32m---> 37\u001b[1;33m         \u001b[1;32mreturn\u001b[0m \u001b[0mself\u001b[0m\u001b[1;33m.\u001b[0m\u001b[0m_predict\u001b[0m\u001b[1;33m(\u001b[0m\u001b[0msignature\u001b[0m\u001b[1;33m=\u001b[0m\u001b[0msignature\u001b[0m\u001b[1;33m,\u001b[0m \u001b[1;33m**\u001b[0m\u001b[0mkwargs\u001b[0m\u001b[1;33m)\u001b[0m\u001b[1;33m\u001b[0m\u001b[1;33m\u001b[0m\u001b[0m\n\u001b[0m\u001b[0;32m     38\u001b[0m         \u001b[1;31m# return super().forward(signature=signature, **kwargs)\u001b[0m\u001b[1;33m\u001b[0m\u001b[1;33m\u001b[0m\u001b[0m\n\u001b[0;32m     39\u001b[0m \u001b[1;33m\u001b[0m\u001b[0m\n",
      "\u001b[1;32m~\\anaconda3\\lib\\site-packages\\dspy\\predict\\predict.py\u001b[0m in \u001b[0;36m__call__\u001b[1;34m(self, **kwargs)\u001b[0m\n\u001b[0;32m     76\u001b[0m \u001b[1;33m\u001b[0m\u001b[0m\n\u001b[0;32m     77\u001b[0m     \u001b[1;32mdef\u001b[0m \u001b[0m__call__\u001b[0m\u001b[1;33m(\u001b[0m\u001b[0mself\u001b[0m\u001b[1;33m,\u001b[0m \u001b[1;33m**\u001b[0m\u001b[0mkwargs\u001b[0m\u001b[1;33m)\u001b[0m\u001b[1;33m:\u001b[0m\u001b[1;33m\u001b[0m\u001b[1;33m\u001b[0m\u001b[0m\n\u001b[1;32m---> 78\u001b[1;33m         \u001b[1;32mreturn\u001b[0m \u001b[0mself\u001b[0m\u001b[1;33m.\u001b[0m\u001b[0mforward\u001b[0m\u001b[1;33m(\u001b[0m\u001b[1;33m**\u001b[0m\u001b[0mkwargs\u001b[0m\u001b[1;33m)\u001b[0m\u001b[1;33m\u001b[0m\u001b[1;33m\u001b[0m\u001b[0m\n\u001b[0m\u001b[0;32m     79\u001b[0m \u001b[1;33m\u001b[0m\u001b[0m\n\u001b[0;32m     80\u001b[0m     \u001b[1;32mdef\u001b[0m \u001b[0mforward\u001b[0m\u001b[1;33m(\u001b[0m\u001b[0mself\u001b[0m\u001b[1;33m,\u001b[0m \u001b[1;33m**\u001b[0m\u001b[0mkwargs\u001b[0m\u001b[1;33m)\u001b[0m\u001b[1;33m:\u001b[0m\u001b[1;33m\u001b[0m\u001b[1;33m\u001b[0m\u001b[0m\n",
      "\u001b[1;32m~\\anaconda3\\lib\\site-packages\\dspy\\predict\\predict.py\u001b[0m in \u001b[0;36mforward\u001b[1;34m(self, **kwargs)\u001b[0m\n\u001b[0;32m    114\u001b[0m             \u001b[0mcompletions\u001b[0m \u001b[1;33m=\u001b[0m \u001b[0mnew_generate\u001b[0m\u001b[1;33m(\u001b[0m\u001b[0mlm\u001b[0m\u001b[1;33m,\u001b[0m \u001b[0msignature\u001b[0m\u001b[1;33m,\u001b[0m \u001b[0mdsp\u001b[0m\u001b[1;33m.\u001b[0m\u001b[0mExample\u001b[0m\u001b[1;33m(\u001b[0m\u001b[0mdemos\u001b[0m\u001b[1;33m=\u001b[0m\u001b[0mdemos\u001b[0m\u001b[1;33m,\u001b[0m \u001b[1;33m**\u001b[0m\u001b[0mkwargs\u001b[0m\u001b[1;33m)\u001b[0m\u001b[1;33m,\u001b[0m \u001b[1;33m**\u001b[0m\u001b[0mconfig\u001b[0m\u001b[1;33m)\u001b[0m\u001b[1;33m\u001b[0m\u001b[1;33m\u001b[0m\u001b[0m\n\u001b[0;32m    115\u001b[0m         \u001b[1;32melse\u001b[0m\u001b[1;33m:\u001b[0m\u001b[1;33m\u001b[0m\u001b[1;33m\u001b[0m\u001b[0m\n\u001b[1;32m--> 116\u001b[1;33m             \u001b[0mcompletions\u001b[0m \u001b[1;33m=\u001b[0m \u001b[0mold_generate\u001b[0m\u001b[1;33m(\u001b[0m\u001b[0mdemos\u001b[0m\u001b[1;33m,\u001b[0m \u001b[0msignature\u001b[0m\u001b[1;33m,\u001b[0m \u001b[0mkwargs\u001b[0m\u001b[1;33m,\u001b[0m \u001b[0mconfig\u001b[0m\u001b[1;33m,\u001b[0m \u001b[0mself\u001b[0m\u001b[1;33m.\u001b[0m\u001b[0mlm\u001b[0m\u001b[1;33m,\u001b[0m \u001b[0mself\u001b[0m\u001b[1;33m.\u001b[0m\u001b[0mstage\u001b[0m\u001b[1;33m)\u001b[0m\u001b[1;33m\u001b[0m\u001b[1;33m\u001b[0m\u001b[0m\n\u001b[0m\u001b[0;32m    117\u001b[0m \u001b[1;33m\u001b[0m\u001b[0m\n\u001b[0;32m    118\u001b[0m         \u001b[0mpred\u001b[0m \u001b[1;33m=\u001b[0m \u001b[0mPrediction\u001b[0m\u001b[1;33m.\u001b[0m\u001b[0mfrom_completions\u001b[0m\u001b[1;33m(\u001b[0m\u001b[0mcompletions\u001b[0m\u001b[1;33m,\u001b[0m \u001b[0msignature\u001b[0m\u001b[1;33m=\u001b[0m\u001b[0msignature\u001b[0m\u001b[1;33m)\u001b[0m\u001b[1;33m\u001b[0m\u001b[1;33m\u001b[0m\u001b[0m\n",
      "\u001b[1;32m~\\anaconda3\\lib\\site-packages\\dspy\\predict\\predict.py\u001b[0m in \u001b[0;36mold_generate\u001b[1;34m(demos, signature, kwargs, config, lm, stage)\u001b[0m\n\u001b[0;32m    141\u001b[0m \u001b[1;33m\u001b[0m\u001b[0m\n\u001b[0;32m    142\u001b[0m     \u001b[1;32mif\u001b[0m \u001b[0mlm\u001b[0m \u001b[1;32mis\u001b[0m \u001b[1;32mNone\u001b[0m\u001b[1;33m:\u001b[0m\u001b[1;33m\u001b[0m\u001b[1;33m\u001b[0m\u001b[0m\n\u001b[1;32m--> 143\u001b[1;33m         \u001b[0mx\u001b[0m\u001b[1;33m,\u001b[0m \u001b[0mC\u001b[0m \u001b[1;33m=\u001b[0m \u001b[0mdsp\u001b[0m\u001b[1;33m.\u001b[0m\u001b[0mgenerate\u001b[0m\u001b[1;33m(\u001b[0m\u001b[0mtemplate\u001b[0m\u001b[1;33m,\u001b[0m \u001b[1;33m**\u001b[0m\u001b[0mconfig\u001b[0m\u001b[1;33m)\u001b[0m\u001b[1;33m(\u001b[0m\u001b[0mx\u001b[0m\u001b[1;33m,\u001b[0m \u001b[0mstage\u001b[0m\u001b[1;33m=\u001b[0m\u001b[0mstage\u001b[0m\u001b[1;33m)\u001b[0m\u001b[1;33m\u001b[0m\u001b[1;33m\u001b[0m\u001b[0m\n\u001b[0m\u001b[0;32m    144\u001b[0m     \u001b[1;32melse\u001b[0m\u001b[1;33m:\u001b[0m\u001b[1;33m\u001b[0m\u001b[1;33m\u001b[0m\u001b[0m\n\u001b[0;32m    145\u001b[0m         \u001b[1;31m# Note: query_only=True means the instructions and examples are not included.\u001b[0m\u001b[1;33m\u001b[0m\u001b[1;33m\u001b[0m\u001b[0m\n",
      "\u001b[1;32m~\\anaconda3\\lib\\site-packages\\dsp\\primitives\\predict.py\u001b[0m in \u001b[0;36mdo_generate\u001b[1;34m(example, stage, max_depth, original_example)\u001b[0m\n\u001b[0;32m     70\u001b[0m \u001b[1;33m\u001b[0m\u001b[0m\n\u001b[0;32m     71\u001b[0m         \u001b[1;31m# Generate and extract the fields.\u001b[0m\u001b[1;33m\u001b[0m\u001b[1;33m\u001b[0m\u001b[0m\n\u001b[1;32m---> 72\u001b[1;33m         \u001b[0mprompt\u001b[0m \u001b[1;33m=\u001b[0m \u001b[0mtemplate\u001b[0m\u001b[1;33m(\u001b[0m\u001b[0mexample\u001b[0m\u001b[1;33m)\u001b[0m\u001b[1;33m\u001b[0m\u001b[1;33m\u001b[0m\u001b[0m\n\u001b[0m\u001b[0;32m     73\u001b[0m         \u001b[0mcompletions\u001b[0m\u001b[1;33m:\u001b[0m \u001b[0mlist\u001b[0m\u001b[1;33m[\u001b[0m\u001b[0mdict\u001b[0m\u001b[1;33m[\u001b[0m\u001b[0mstr\u001b[0m\u001b[1;33m,\u001b[0m \u001b[0mAny\u001b[0m\u001b[1;33m]\u001b[0m\u001b[1;33m]\u001b[0m \u001b[1;33m=\u001b[0m \u001b[0mgenerator\u001b[0m\u001b[1;33m(\u001b[0m\u001b[0mprompt\u001b[0m\u001b[1;33m,\u001b[0m \u001b[1;33m**\u001b[0m\u001b[0mkwargs\u001b[0m\u001b[1;33m)\u001b[0m\u001b[1;33m\u001b[0m\u001b[1;33m\u001b[0m\u001b[0m\n\u001b[0;32m     74\u001b[0m         \u001b[0mcompletions\u001b[0m\u001b[1;33m:\u001b[0m \u001b[0mlist\u001b[0m\u001b[1;33m[\u001b[0m\u001b[0mExample\u001b[0m\u001b[1;33m]\u001b[0m \u001b[1;33m=\u001b[0m \u001b[1;33m[\u001b[0m\u001b[0mtemplate\u001b[0m\u001b[1;33m.\u001b[0m\u001b[0mextract\u001b[0m\u001b[1;33m(\u001b[0m\u001b[0mexample\u001b[0m\u001b[1;33m,\u001b[0m \u001b[0mp\u001b[0m\u001b[1;33m)\u001b[0m \u001b[1;32mfor\u001b[0m \u001b[0mp\u001b[0m \u001b[1;32min\u001b[0m \u001b[0mcompletions\u001b[0m\u001b[1;33m]\u001b[0m\u001b[1;33m\u001b[0m\u001b[1;33m\u001b[0m\u001b[0m\n",
      "\u001b[1;32m~\\anaconda3\\lib\\site-packages\\dsp\\adapters\\template.py\u001b[0m in \u001b[0;36m__call__\u001b[1;34m(self, example, show_guidelines)\u001b[0m\n\u001b[0;32m    181\u001b[0m             \u001b[0mexample\u001b[0m\u001b[1;33m[\u001b[0m\u001b[1;34m\"augmented\"\u001b[0m\u001b[1;33m]\u001b[0m \u001b[1;33m=\u001b[0m \u001b[1;32mTrue\u001b[0m\u001b[1;33m\u001b[0m\u001b[1;33m\u001b[0m\u001b[0m\n\u001b[0;32m    182\u001b[0m \u001b[1;33m\u001b[0m\u001b[0m\n\u001b[1;32m--> 183\u001b[1;33m         \u001b[0mquery\u001b[0m \u001b[1;33m=\u001b[0m \u001b[0mself\u001b[0m\u001b[1;33m.\u001b[0m\u001b[0mquery\u001b[0m\u001b[1;33m(\u001b[0m\u001b[0mexample\u001b[0m\u001b[1;33m)\u001b[0m\u001b[1;33m\u001b[0m\u001b[1;33m\u001b[0m\u001b[0m\n\u001b[0m\u001b[0;32m    184\u001b[0m \u001b[1;33m\u001b[0m\u001b[0m\n\u001b[0;32m    185\u001b[0m         \u001b[1;31m# if it has more lines than fields\u001b[0m\u001b[1;33m\u001b[0m\u001b[1;33m\u001b[0m\u001b[0m\n",
      "\u001b[1;32m~\\anaconda3\\lib\\site-packages\\dsp\\adapters\\template.py\u001b[0m in \u001b[0;36mquery\u001b[1;34m(self, example, is_demo)\u001b[0m\n\u001b[0;32m     42\u001b[0m                         \u001b[1;32mreturn\u001b[0m \u001b[1;34m\" \"\u001b[0m\u001b[1;33m.\u001b[0m\u001b[0mjoin\u001b[0m\u001b[1;33m(\u001b[0m\u001b[0mx\u001b[0m\u001b[1;33m.\u001b[0m\u001b[0msplit\u001b[0m\u001b[1;33m(\u001b[0m\u001b[1;33m)\u001b[0m\u001b[1;33m)\u001b[0m\u001b[1;33m\u001b[0m\u001b[1;33m\u001b[0m\u001b[0m\n\u001b[0;32m     43\u001b[0m \u001b[1;33m\u001b[0m\u001b[0m\n\u001b[1;32m---> 44\u001b[1;33m                 \u001b[0mformatted_value\u001b[0m \u001b[1;33m=\u001b[0m \u001b[0mformat_handler\u001b[0m\u001b[1;33m(\u001b[0m\u001b[0mexample\u001b[0m\u001b[1;33m[\u001b[0m\u001b[0mfield\u001b[0m\u001b[1;33m.\u001b[0m\u001b[0minput_variable\u001b[0m\u001b[1;33m]\u001b[0m\u001b[1;33m)\u001b[0m\u001b[1;33m\u001b[0m\u001b[1;33m\u001b[0m\u001b[0m\n\u001b[0m\u001b[0;32m     45\u001b[0m                 \u001b[0mseparator\u001b[0m \u001b[1;33m=\u001b[0m \u001b[1;34m\"\\n\"\u001b[0m \u001b[1;32mif\u001b[0m \u001b[0mfield\u001b[0m\u001b[1;33m.\u001b[0m\u001b[0mseparator\u001b[0m \u001b[1;33m==\u001b[0m \u001b[1;34m\" \"\u001b[0m \u001b[1;32mand\u001b[0m \u001b[1;34m\"\\n\"\u001b[0m \u001b[1;32min\u001b[0m \u001b[0mformatted_value\u001b[0m \u001b[1;32melse\u001b[0m \u001b[0mfield\u001b[0m\u001b[1;33m.\u001b[0m\u001b[0mseparator\u001b[0m\u001b[1;33m\u001b[0m\u001b[1;33m\u001b[0m\u001b[0m\n\u001b[0;32m     46\u001b[0m \u001b[1;33m\u001b[0m\u001b[0m\n",
      "\u001b[1;32m~\\anaconda3\\lib\\site-packages\\dsp\\adapters\\template.py\u001b[0m in \u001b[0;36mformat_handler\u001b[1;34m(x)\u001b[0m\n\u001b[0;32m     39\u001b[0m \u001b[1;33m\u001b[0m\u001b[0m\n\u001b[0;32m     40\u001b[0m                     \u001b[1;32mdef\u001b[0m \u001b[0mformat_handler\u001b[0m\u001b[1;33m(\u001b[0m\u001b[0mx\u001b[0m\u001b[1;33m)\u001b[0m\u001b[1;33m:\u001b[0m\u001b[1;33m\u001b[0m\u001b[1;33m\u001b[0m\u001b[0m\n\u001b[1;32m---> 41\u001b[1;33m                         \u001b[1;32massert\u001b[0m \u001b[0mtype\u001b[0m\u001b[1;33m(\u001b[0m\u001b[0mx\u001b[0m\u001b[1;33m)\u001b[0m \u001b[1;33m==\u001b[0m \u001b[0mstr\u001b[0m\u001b[1;33m,\u001b[0m \u001b[1;34mf\"Need format_handler for {field.input_variable} of type {type(x)}\"\u001b[0m\u001b[1;33m\u001b[0m\u001b[1;33m\u001b[0m\u001b[0m\n\u001b[0m\u001b[0;32m     42\u001b[0m                         \u001b[1;32mreturn\u001b[0m \u001b[1;34m\" \"\u001b[0m\u001b[1;33m.\u001b[0m\u001b[0mjoin\u001b[0m\u001b[1;33m(\u001b[0m\u001b[0mx\u001b[0m\u001b[1;33m.\u001b[0m\u001b[0msplit\u001b[0m\u001b[1;33m(\u001b[0m\u001b[1;33m)\u001b[0m\u001b[1;33m)\u001b[0m\u001b[1;33m\u001b[0m\u001b[1;33m\u001b[0m\u001b[0m\n\u001b[0;32m     43\u001b[0m \u001b[1;33m\u001b[0m\u001b[0m\n",
      "\u001b[1;31mAssertionError\u001b[0m: Need format_handler for startup_json of type <class 'dict'>"
     ]
    }
   ],
   "source": [
    "evaluate = dspy.ChainOfThought(EvaluatePitchDeck, n=1)\n",
    "response = evaluate(pitchdeck_content=pdf_content, startup_json=startup_data)\n",
    "print(f\"\"\"{response}\"\"\")"
   ]
  },
  {
   "cell_type": "code",
   "execution_count": null,
   "id": "bd3db485-d1d4-4ec7-8659-e4b8a69b6886",
   "metadata": {},
   "outputs": [],
   "source": []
  }
 ],
 "metadata": {
  "kernelspec": {
   "display_name": "Python 3 (ipykernel)",
   "language": "python",
   "name": "python3"
  },
  "language_info": {
   "codemirror_mode": {
    "name": "ipython",
    "version": 3
   },
   "file_extension": ".py",
   "mimetype": "text/x-python",
   "name": "python",
   "nbconvert_exporter": "python",
   "pygments_lexer": "ipython3",
   "version": "3.9.13"
  }
 },
 "nbformat": 4,
 "nbformat_minor": 5
}
