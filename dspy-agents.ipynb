{
 "cells": [
  {
   "cell_type": "code",
   "execution_count": 1,
   "metadata": {},
   "outputs": [
    {
     "data": {
      "text/plain": [
       "True"
      ]
     },
     "execution_count": 1,
     "metadata": {},
     "output_type": "execute_result"
    }
   ],
   "source": [
    "from dotenv import load_dotenv\n",
    "load_dotenv()"
   ]
  },
  {
   "cell_type": "markdown",
   "metadata": {},
   "source": [
    "import dspy\n",
    "import instructor\n",
    "wrkr = dspy.OpenAI(model='gpt-3.5-turbo', max_tokens=1000, api_base='http://0.0.0.0:4000', model_type=\"chat\")\n",
    "bss = dspy.OpenAI(model='gpt-4-turbo', max_tokens=1000, api_base='http://0.0.0.0:4000', model_type=\"chat\")\n",
    "dspy.configure(lm=wrkr) # our default"
   ]
  },
  {
   "cell_type": "markdown",
   "metadata": {},
   "source": [
    "from typing import List, Any, Callable, Optional\n",
    "from pydantic import BaseModel"
   ]
  },
  {
   "cell_type": "markdown",
   "metadata": {},
   "source": [
    "class Plan(dspy.Signature):\n",
    "    \"\"\"Produce a step by step plan to perform the task. \n",
    "The plan needs to be in markdown format and should be broken down into big steps (with ## headings) and sub-steps beneath those.\n",
    "When thinking about your plan, be sure to think about the tools at your disposal and include them in your plan.\n",
    "    \"\"\"\n",
    "    task = dspy.InputField(prefix=\"Task\", desc=\"The task\")\n",
    "    context = dspy.InputField(format=str, desc=\"The context around the plan\")\n",
    "    proposed_plan = dspy.OutputField(desc=\"The proposed, step by step execution plan.\")"
   ]
  },
  {
   "cell_type": "markdown",
   "metadata": {},
   "source": [
    "class Worker(dspy.Module):\n",
    "    def __init__(self, role:str, tools:List):\n",
    "        self.role = role\n",
    "        self.tools = tools\n",
    "        self.tool_descriptions = \"\\n\".join([f\"- {t.name}: {t.description}. To use this tool please provide: `{t.requires}`\" for t in tools])\n",
    "        self.plan = dspy.ChainOfThought(Plan)\n",
    "    def forward(self, task:str):\n",
    "        context = f\"{self.role}\\n{self.tool_descriptions}\"\n",
    "        input_args = dict(\n",
    "            context = context,\n",
    "            task = task\n",
    "        ) # just did args for printing for debugging\n",
    "        result = self.plan(**input_args)\n",
    "        print(result.proposed_plan)"
   ]
  },
  {
   "cell_type": "markdown",
   "metadata": {},
   "source": [
    "class Tool(BaseModel):\n",
    "    name: str\n",
    "    description: str\n",
    "    requires: str\n",
    "    func: Callable"
   ]
  },
  {
   "cell_type": "markdown",
   "metadata": {},
   "source": [
    "test_tools = [\n",
    "    Tool(name=\"phone\", description=\"a way of making phone calls\", requires=\"phone_number\", func=lambda x: \"they've got time\"),\n",
    "    Tool(name=\"local business lookup\", description=\"Look up businesses by category\", requires=\"business category\", func=lambda x: \"Bills landscaping: 415-555-5555\")\n",
    "]"
   ]
  },
  {
   "cell_type": "markdown",
   "metadata": {},
   "source": [
    "with dspy.context(lm=wrkr):\n",
    "    Worker(\"assistant\", test_tools).forward(\"get this yard cleaned up.\")\n",
    "# you'll see output you might expect."
   ]
  },
  {
   "cell_type": "markdown",
   "metadata": {
    "jupyter": {
     "source_hidden": true
    }
   },
   "source": [
    "class Worker2(dspy.Module):\n",
    "    def __init__(self, role:str, tools:List):\n",
    "        self.role = role\n",
    "        self.tools = dict([(t.name, t) for t in tools])\n",
    "        self.tool_descriptions = \"\\n\".join([f\"- {t.name}: {t.description}. To use this tool please provide: `{t.requires}`\" for t in tools])\n",
    "        self._plan = dspy.ChainOfThought(Plan)\n",
    "        self._tool = dspy.ChainOfThought(\"task, context -> tool_name, tool_argument\")\n",
    "        \n",
    "        print(self.tool_descriptions)\n",
    "    def plan(self, task:str, feedback:Optional[str]=None):\n",
    "        context = f\"Your role:{self.role}\\n Tools at your disposal:\\n{self.tool_descriptions}\"\n",
    "        if feedback:\n",
    "            context += f\"\\nPrevious feedback on your prior plan {feedback}\"\n",
    "        input_args = dict(\n",
    "            task=task,\n",
    "            context=context\n",
    "        )    \n",
    "        result = self._plan(**input_args)\n",
    "        return result.proposed_plan\n",
    "    def execute(self, task:str, use_tool:bool):\n",
    "        print(f\"executing {task}\")\n",
    "        if not use_tool:\n",
    "            return f\"{task} completed successfully\"\n",
    "            \n",
    "        res = self._tool(task=task, context=self.tool_descriptions)\n",
    "        t = res.tool_name\n",
    "        arg = res.tool_argument\n",
    "        if t in self.tools:\n",
    "            complete = self.tools[t].func(arg)\n",
    "            return complete\n",
    "        return \"Not done\""
   ]
  },
  {
   "cell_type": "markdown",
   "metadata": {},
   "source": [
    "email_tool = Tool(\n",
    "    name=\"email\",\n",
    "    description=\"Send and receive emails\",\n",
    "    requires=\"email_address\",\n",
    "    func=lambda x: f\"Email sent to {x}\"\n",
    ")\n",
    "schedule_meeting_tool = Tool(\n",
    "    name=\"schedule meeting\",\n",
    "    description=\"Schedule meetings\",\n",
    "    requires=\"meeting_details\",\n",
    "    func=lambda x: f\"Meeting scheduled on {x}\"\n",
    ")"
   ]
  },
  {
   "cell_type": "markdown",
   "metadata": {},
   "source": [
    "cleaning_supplies_tool = Tool(\n",
    "    name=\"cleaning supplies\",\n",
    "    description=\"List of cleaning supplies needed\",\n",
    "    requires=\"cleaning_area\",\n",
    "    func=lambda x: f\"Need supplies for {x}\"\n",
    ")\n",
    "maintenance_report_tool = Tool(\n",
    "    name=\"maintenance report\",\n",
    "    description=\"Report maintenance issues\",\n",
    "    requires=\"issue_description\",\n",
    "    func=lambda x: f\"There's too much work for one person. I need help!\"\n",
    ")"
   ]
  },
  {
   "cell_type": "markdown",
   "metadata": {},
   "source": [
    "code_compiler_tool = Tool(\n",
    "    name=\"code compiler\",\n",
    "    description=\"Compile code\",\n",
    "    requires=\"source_code\",\n",
    "    func=lambda x: \"Code compiled successfully\"\n",
    ")\n",
    "bug_tracker_tool = Tool(\n",
    "    name=\"bug tracker\",\n",
    "    description=\"Track and report bugs\",\n",
    "    requires=\"bug_details\",\n",
    "    func=lambda x: f\"Bug reported: {x}\"\n",
    ")"
   ]
  },
  {
   "cell_type": "markdown",
   "metadata": {},
   "source": [
    "recipe_lookup_tool = Tool(\n",
    "    name=\"recipe lookup\",\n",
    "    description=\"Look up recipes\",\n",
    "    requires=\"dish_name\",\n",
    "    func=lambda x: f\"Recipe for {x} found\"\n",
    ")\n",
    "kitchen_inventory_tool = Tool(\n",
    "    name=\"kitchen inventory\",\n",
    "    description=\"Check kitchen inventory\",\n",
    "    requires=\"ingredient\",\n",
    "    func=lambda x: f\"Inventory checked for {x}\"\n",
    ")"
   ]
  },
  {
   "cell_type": "markdown",
   "metadata": {},
   "source": [
    "workers = [\n",
    "    Worker2(\"assistant\", [email_tool, schedule_meeting_tool]),\n",
    "    Worker2(\"janitor\", [cleaning_supplies_tool, maintenance_report_tool]),\n",
    "    Worker2(\"software engineer\", [code_compiler_tool, bug_tracker_tool]),\n",
    "    Worker2(\"cook\", [recipe_lookup_tool, kitchen_inventory_tool])\n",
    "]"
   ]
  },
  {
   "cell_type": "markdown",
   "metadata": {},
   "source": [
    "from pydantic import Field\n",
    "import instructor\n",
    "from openai import OpenAI\n",
    "_client = instructor.from_openai(OpenAI(base_url=\"http://0.0.0.0:4000/\"))\n",
    "class SubTask(BaseModel):\n",
    "    action:str\n",
    "    assignee: str\n",
    "    requires_tool: bool = Field(..., description=\"Does this require the use of a specific tool?\")\n",
    "                               \n",
    "class Task(BaseModel):\n",
    "    sub_tasks:List[SubTask]\n",
    "    \n",
    "class ParsedPlan(BaseModel):\n",
    "    tasks: List[Task]\n",
    "def get_plan(plan:str, context:str):\n",
    "    return _client.chat.completions.create(\n",
    "        response_model=ParsedPlan,\n",
    "        model=\"gpt-3.5-turbo\",\n",
    "        messages=[\n",
    "            dict(role=\"system\", content=\"You help parse markdown into a structured format.\"),\n",
    "            dict(role=\"user\", content=f\"Here is the context about the plan including the available tools: \\n{context} \\n\\n The plan: \\n\\n {plan}\")\n",
    "        ],\n",
    "    )"
   ]
  },
  {
   "cell_type": "markdown",
   "metadata": {},
   "source": [
    "class Boss(dspy.Module):\n",
    "    def __init__(self, base_context:str, direct_reports=List, lm=bss):\n",
    "        self.base_context = base_context\n",
    "        self._plan = dspy.ChainOfThought(\"task, context -> assignee\")\n",
    "        self._approve = dspy.ChainOfThought(\"task, context -> approve\")\n",
    "        self._critique = dspy.ChainOfThought(\"task, context -> critique\")\n",
    "        self.reports = dict((d.role,d) for d in direct_reports)\n",
    "        self.lm = lm\n",
    "        report_capabilities = []\n",
    "        for r in direct_reports:\n",
    "            report_capabilities.append(f\"{r.role} has the follow tools:\\n{r.tool_descriptions}\")\n",
    "        self.report_capabilities = \"\\n\".join(report_capabilities) \n",
    "        print(self.report_capabilities)\n",
    "    # The `critique` method allows the Boss to provide feedback on a proposed plan. It takes the task, the proposed plan, and an optional extra context as input, and uses the `_critique` chain of thought to generate a critique.\n",
    "    def critique(self, task:str, plan:str, extra_context:Optional[str]=None):\n",
    "        context=self.base_context\n",
    "        if extra_context:\n",
    "            context += \"\\n\"\n",
    "            context += extra_context\n",
    "        \n",
    "        crit_args = dict(\n",
    "            context=context,\n",
    "            task=task,\n",
    "            proposed_plan=plan)\n",
    "        with dspy.context(lm=self.lm):\n",
    "            result = self._critique(**crit_args)\n",
    "        return result.critique\n",
    "    # The `approve` method allows the Boss to approve a proposed plan. It takes the task, the proposed plan, and an optional extra context as input, and uses the `_approve` chain of thought to generate an approval decision.\n",
    "    def approve(self, task:str, plan:str, extra_context:Optional[str]=None):\n",
    "        context=self.base_context + \"\\n You only approve plans after 2 iterations\"\n",
    "        if extra_context:\n",
    "            context += \"\\n\"\n",
    "            context += extra_context\n",
    "        \n",
    "        approval_args = dict(\n",
    "            context=context,\n",
    "            task=task,\n",
    "            proposed_plan=plan)\n",
    "        with dspy.context(lm=self.lm):\n",
    "            result = self._approve(**approval_args)\n",
    "        return result.approve        \n",
    "    # The `plan` method is the core of the Boss class. It takes a task as input and uses the `_plan` chain of thought to determine which of the direct reports should be assigned to the task. The method then iterates through the assignment process, providing feedback and critiques until a suitable assignee is found. Once the assignee is determined, the Boss calls the `plan` method of the assigned worker to generate a plan for the task. The Boss then approves the plan, providing critiques and feedback as necessary, until the plan is approved.\n",
    "    def plan(self, task:str):\n",
    "        # note: this function is a mess, don't judge me\n",
    "        # I haven't built an agent framework before, so I'm not sure of the ergonomics\n",
    "        # and best approach\n",
    "        context=self.base_context + f\"Here are your direct report capabilities: {self.report_capabilities}\"\n",
    "        \n",
    "        plan_args = dict(\n",
    "            context = context,\n",
    "            task=f\"Which person should take on the following task: {task}\"\n",
    "        )\n",
    "        assignee = self._plan(**plan_args).assignee\n",
    "        is_assigned = assignee.lower() in self.reports\n",
    "        report = None\n",
    "        print(\"assigning\")\n",
    "        for x in range(3):\n",
    "            if is_assigned:\n",
    "                report = self.reports[assignee]\n",
    "            else:\n",
    "                context += f\"\\n\\n you tried to assign to {assignee} but that's not a valid one. Think carefully and assign the proper report\"\n",
    "                plan_args = dict(\n",
    "                    context = context,\n",
    "                    task=f\"Which person should take on the following task: {task}\"\n",
    "                )\n",
    "                assignee = self._plan(**plan_args).assignee\n",
    "        assert report, \"Failed to assign\"\n",
    "        print(\"assigning complete\")\n",
    "        print(\"planning\")\n",
    "        reports_plan = report.plan(task)\n",
    "        with dspy.context(lm=self.lm):\n",
    "            approval = self.approve(task, reports_plan)\n",
    "            is_approved = \"yes\" in approval.lower() and \"no\" not in approval.lower()\n",
    "        \n",
    "        for x in range(2): # I created cycles to simulate failures, this might be a while loop in production\n",
    "            print(f\"Cycle {x}: {approval}\")\n",
    "            if is_approved:\n",
    "                break\n",
    "            feedback = self.critique(task, reports_plan)\n",
    "            feedback = f\"Prior plan: {reports_plan}\\n Boss's Feedback: {feedback}\"\n",
    "            print(feedback)\n",
    "            reports_plan = report.plan(task, feedback)\n",
    "            print(\"new plan===>\")\n",
    "            print(reports_plan)\n",
    "            complete = f\"{feedback}\\n\\nNew plan:\\n\\n{reports_plan}\"\n",
    "            approval = self.approve(task, reports_plan)\n",
    "            is_approved = \"yes\" in approval.lower()\n",
    "        print(\"Now working\")\n",
    "        parsed_plan = get_plan(reports_plan, f\"The assignee is: {assignee}. The rest of the team is: {self.report_capabilities}\")\n",
    "        results = []\n",
    "        for task in parsed_plan.tasks:\n",
    "            for sub_task in task.sub_tasks:    \n",
    "                task_result = self.reports[sub_task.assignee].execute(sub_task.action, sub_task.requires_tool)\n",
    "                results.append(f\"\\n{task_result}: {sub_task.action}\\n\")\n",
    "        print(\"end result\")\n",
    "        print(\"\\n\".join(results))"
   ]
  },
  {
   "cell_type": "markdown",
   "metadata": {},
   "source": [
    "b = Boss(\"You are a boss that manages a team of people, you're responsible for them doing well and completing the tasks you are given.\", workers)\n"
   ]
  },
  {
   "cell_type": "markdown",
   "metadata": {},
   "source": [
    "b.plan(\"clean up the yard\")\n"
   ]
  }
 ],
 "metadata": {
  "kernelspec": {
   "display_name": "Python 3 (ipykernel)",
   "language": "python",
   "name": "python3"
  },
  "language_info": {
   "codemirror_mode": {
    "name": "ipython",
    "version": 3
   },
   "file_extension": ".py",
   "mimetype": "text/x-python",
   "name": "python",
   "nbconvert_exporter": "python",
   "pygments_lexer": "ipython3",
   "version": "3.11.4"
  }
 },
 "nbformat": 4,
 "nbformat_minor": 4
}
